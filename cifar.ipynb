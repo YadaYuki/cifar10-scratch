{
 "metadata": {
  "language_info": {
   "codemirror_mode": {
    "name": "ipython",
    "version": 3
   },
   "file_extension": ".py",
   "mimetype": "text/x-python",
   "name": "python",
   "nbconvert_exporter": "python",
   "pygments_lexer": "ipython3",
   "version": "3.7.4-final"
  },
  "orig_nbformat": 2,
  "kernelspec": {
   "name": "python3",
   "display_name": "Python 3"
  }
 },
 "nbformat": 4,
 "nbformat_minor": 2,
 "cells": [
  {
   "cell_type": "code",
   "execution_count": 2,
   "metadata": {},
   "outputs": [],
   "source": [
    "import numpy as np"
   ]
  },
  {
   "cell_type": "code",
   "execution_count": 3,
   "metadata": {},
   "outputs": [],
   "source": [
    "# 32 * 32 * 3(rgb)"
   ]
  },
  {
   "cell_type": "code",
   "execution_count": 4,
   "metadata": {},
   "outputs": [],
   "source": [
    "def unpickle(file):\n",
    "    import pickle\n",
    "    with open(file, 'rb') as fo:\n",
    "        dict = pickle.load(fo, encoding='bytes')\n",
    "    return dict"
   ]
  },
  {
   "cell_type": "code",
   "execution_count": 5,
   "metadata": {},
   "outputs": [],
   "source": [
    "pathname = \"cifar-10-batches-py\""
   ]
  },
  {
   "cell_type": "code",
   "execution_count": 6,
   "metadata": {},
   "outputs": [],
   "source": [
    "def get_labelnames(dict):\n",
    "    return [item.decode(\"utf8\") for item in dict[b\"label_names\"]]"
   ]
  },
  {
   "cell_type": "code",
   "execution_count": 7,
   "metadata": {},
   "outputs": [],
   "source": [
    "def get_label(dict):\n",
    "    return []"
   ]
  },
  {
   "cell_type": "code",
   "execution_count": 8,
   "metadata": {},
   "outputs": [
    {
     "output_type": "execute_result",
     "data": {
      "text/plain": "dict_keys([b'batch_label', b'labels', b'data', b'filenames'])"
     },
     "metadata": {},
     "execution_count": 8
    }
   ],
   "source": [
    "unpickle(pathname+\"/data_batch_1\").keys()"
   ]
  },
  {
   "cell_type": "code",
   "execution_count": 9,
   "metadata": {},
   "outputs": [],
   "source": [
    "labelname = get_labelnames(unpickle(pathname+\"/batches.meta\"))"
   ]
  },
  {
   "cell_type": "code",
   "execution_count": 10,
   "metadata": {},
   "outputs": [],
   "source": [
    "data_arr = []\n",
    "label_arr = []\n",
    "DATA_BATCH_NUM = 5\n",
    "for i in range(DATA_BATCH_NUM):\n",
    "    data_batch = unpickle(pathname+\"/data_batch_{}\".format(i+1))\n",
    "    data_arr.extend(data_batch[b'data'])\n",
    "    label_arr += data_batch[b'labels']\n",
    "data_arr = np.array(data_arr)\n",
    "label_arr = np.array(label_arr)"
   ]
  },
  {
   "cell_type": "code",
   "execution_count": 11,
   "metadata": {},
   "outputs": [
    {
     "output_type": "execute_result",
     "data": {
      "text/plain": "array([[ 59,  43,  50, ..., 140,  84,  72],\n       [154, 126, 105, ..., 139, 142, 144],\n       [255, 253, 253, ...,  83,  83,  84],\n       ...,\n       [ 35,  40,  42, ...,  77,  66,  50],\n       [189, 186, 185, ..., 169, 171, 171],\n       [229, 236, 234, ..., 173, 162, 161]], dtype=uint8)"
     },
     "metadata": {},
     "execution_count": 11
    }
   ],
   "source": [
    "data_arr"
   ]
  },
  {
   "cell_type": "code",
   "execution_count": 17,
   "metadata": {},
   "outputs": [],
   "source": [
    "sample_val = np.zeros((3072,5))"
   ]
  },
  {
   "cell_type": "code",
   "execution_count": 19,
   "metadata": {},
   "outputs": [
    {
     "output_type": "execute_result",
     "data": {
      "text/plain": "(50000, 5)"
     },
     "metadata": {},
     "execution_count": 19
    }
   ],
   "source": [
    "np.dot(data_arr,sample_val).shape"
   ]
  },
  {
   "cell_type": "code",
   "execution_count": null,
   "metadata": {},
   "outputs": [],
   "source": []
  },
  {
   "cell_type": "code",
   "execution_count": 21,
   "metadata": {},
   "outputs": [
    {
     "output_type": "execute_result",
     "data": {
      "text/plain": "32"
     },
     "metadata": {},
     "execution_count": 21
    }
   ],
   "source": [
    "data_arr[0].reshape(32,32,3)"
   ]
  },
  {
   "cell_type": "code",
   "execution_count": null,
   "metadata": {},
   "outputs": [],
   "source": []
  }
 ]
}